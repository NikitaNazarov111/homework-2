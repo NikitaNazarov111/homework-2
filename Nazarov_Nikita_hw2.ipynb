{
  "nbformat": 4,
  "nbformat_minor": 0,
  "metadata": {
    "colab": {
      "provenance": []
    },
    "kernelspec": {
      "name": "python3",
      "display_name": "Python 3"
    },
    "language_info": {
      "name": "python"
    }
  },
  "cells": [
    {
      "cell_type": "markdown",
      "source": [
        "## 1. Подсчет количества дней\n",
        "\n",
        "Создай целочисленные переменные, которые отвечают за:\n",
        "- количество дней для проращивания семян\n",
        "- количество дней для выращивания рассады\n",
        "- количество дней до плодоношения\n",
        "\n",
        "Сложи все три переменные. Выведи на экран результат - число дней от момента начала проращивания семян до момента, когда созреют помидоры."
      ],
      "metadata": {
        "id": "xPCW0t6jIduY"
      }
    },
    {
      "cell_type": "code",
      "execution_count": null,
      "metadata": {
        "id": "O6sEcKdFIMZb",
        "colab": {
          "base_uri": "https://localhost:8080/"
        },
        "outputId": "5b0ad679-d285-48e7-d85f-73715652b95f"
      },
      "outputs": [
        {
          "output_type": "stream",
          "name": "stdout",
          "text": [
            "Число дней от момента начала проращивания семян до момента, когда созреют помидоры: 45\n"
          ]
        }
      ],
      "source": [
        "# YOUR CODE HERE\n",
        "growing = 10\n",
        "prep_growing = 15\n",
        "bearing = 20\n",
        "print('Число дней от момента начала проращивания семян до момента, когда созреют помидоры:', growing + prep_growing + bearing)"
      ]
    },
    {
      "cell_type": "markdown",
      "source": [
        "## 2. Сохранение данных о сорте.\n",
        "\n",
        "Продуктивность сорта считается по простой формуле - [количество кг, собранных со всех кустов] / [количество кустов]\n",
        "\n",
        "Считай с клавиатуры количество килограмм, собранных со всех кустов и количество кустов (целые числа). Подели и округли до 2 знаков после запятой, результат выведи на экран."
      ],
      "metadata": {
        "id": "ZmLLCikNIAdT"
      }
    },
    {
      "cell_type": "code",
      "execution_count": null,
      "metadata": {
        "id": "IWNzBK6AIouo",
        "colab": {
          "base_uri": "https://localhost:8080/"
        },
        "outputId": "ae502ce5-2dd9-4e7b-c387-506d48cfff60"
      },
      "outputs": [
        {
          "output_type": "stream",
          "name": "stdout",
          "text": [
            "7\n",
            "3\n",
            "Продуктивность сорта: 2.33\n"
          ]
        }
      ],
      "source": [
        "# YOUR CODE HERE\n",
        "num_kg = int(input())\n",
        "num_bush = int(input())\n",
        "productivity = round(num_kg / num_bush, 2)\n",
        "print('Продуктивность сорта:', productivity)"
      ]
    },
    {
      "cell_type": "markdown",
      "source": [
        "## 3. Средняя сладость клубники.\n",
        "\n",
        "Ваша бабушка решила поспорить с соседкой, у кого клубника более сладкая. Они посадили кусты и потом оценили сладость клубники, собранной с каждого из кустов, по шкале от 0 до 10. Ваша задача - посчитать среднее для двух массивов и определить, у кого слаще клубника в среднем."
      ],
      "metadata": {
        "id": "O9dAr1NdJpyT"
      }
    },
    {
      "cell_type": "code",
      "execution_count": null,
      "metadata": {
        "id": "oy8HPWpiIpOv",
        "colab": {
          "base_uri": "https://localhost:8080/"
        },
        "outputId": "0e3dfe10-4b3f-4d35-a686-59dbbc13f02b"
      },
      "outputs": [
        {
          "output_type": "stream",
          "name": "stdout",
          "text": [
            "Клубника слаще у бабушки\n"
          ]
        }
      ],
      "source": [
        "grandma_strawberries = [5, 7, 10, 9, 3, 10]\n",
        "neighbour_strawberries = [10, 6, 2, 3]\n",
        "\n",
        "# YOUR CODE HERE\n",
        "mean_grandma = sum(grandma_strawberries) / len(grandma_strawberries)\n",
        "mean_neighbour = sum(neighbour_strawberries) / len(neighbour_strawberries)\n",
        "if mean_grandma > mean_neighbour:\n",
        "  print('Клубника слаще у бабушки')\n",
        "elif mean_grandma < mean_neighbour:\n",
        "  print('Клубника слаще у соседки')\n",
        "else:\n",
        "  print('Клубника одинаково слаадкая у бабушки и соседки')"
      ]
    },
    {
      "cell_type": "markdown",
      "source": [
        "## 4. Список растений на даче.\n",
        "\n",
        "У вас есть список растений на даче у бабушки. <font color=\"#8000FF\"> При помощи форматирования строк </font> выведите список растений **в алфавитном порядке** в виде:\n",
        "\n",
        "N. Название растения."
      ],
      "metadata": {
        "id": "EYjJBGLsRC4y"
      }
    },
    {
      "cell_type": "code",
      "execution_count": null,
      "metadata": {
        "id": "z2_PuewtIpWs",
        "colab": {
          "base_uri": "https://localhost:8080/"
        },
        "outputId": "2bdbd874-0096-49d3-9bd6-f4b555744a8d"
      },
      "outputs": [
        {
          "output_type": "stream",
          "name": "stdout",
          "text": [
            "1. картошка\n",
            "2. клубника\n",
            "3. мальва\n",
            "4. огурцы\n",
            "5. подсолнухи\n",
            "6. томаты\n",
            "7. флоксы\n",
            "8. хосты\n"
          ]
        }
      ],
      "source": [
        "plants = [\"мальва\", \"клубника\", \"томаты\", \"огурцы\", \"флоксы\", \"картошка\", \"подсолнухи\", \"хосты\"]\n",
        "\n",
        "# YOUR CODE HERE\n",
        "plants = sorted(plants)\n",
        "for i in range(len(plants)):\n",
        "  print(f'{i + 1}. {plants[i]}')"
      ]
    },
    {
      "cell_type": "markdown",
      "source": [
        "## 5. Погода на улице.\n",
        "\n",
        "Сейчас весна, у вашей бабушки уже высажена рассада перцев в парник. Однако она боится заморозков. Ваша задача - считать с клавиатуры значение температуры:\n",
        "\n",
        "Если t<5, надо вывести \"Пожалуйста, закрой полностью парник - на улице холодно\";\n",
        "\n",
        "Если t от 5 до 10, надо вывести \"Пожалуйста, прикрой парник - на улице прохладно\";\n",
        "\n",
        "Если t больше 10, надо вывести \"Пожалуйста, открой полностью парник - на улице тепло\"."
      ],
      "metadata": {
        "id": "amXMFPIxKq7s"
      }
    },
    {
      "cell_type": "code",
      "execution_count": null,
      "metadata": {
        "id": "F9Xwk-ldIpeY",
        "colab": {
          "base_uri": "https://localhost:8080/"
        },
        "outputId": "67e02657-44cb-48be-ac25-4c315776ae80"
      },
      "outputs": [
        {
          "output_type": "stream",
          "name": "stdout",
          "text": [
            "-10\n",
            "Пожалуйста, закрой полностью парник - на улице холодно\n"
          ]
        }
      ],
      "source": [
        "# YOUR CODE HERE\n",
        "t = int(input())\n",
        "if t < 5:\n",
        "  print(\"Пожалуйста, закрой полностью парник - на улице холодно\")\n",
        "elif 5 <= t <= 10:\n",
        "  print(\"Пожалуйста, прикрой парник - на улице прохладно\")\n",
        "else:\n",
        "  print(\"Пожалуйста, открой полностью парник - на улице тепло\")"
      ]
    },
    {
      "cell_type": "markdown",
      "source": [
        "## 6. Список любимых томатов.\n",
        "\n",
        "У вашей бабушки есть любимые сорта томатов, но не все из них она посадила в этом году. У вас есть словарь, где ключ - название сорта, а по значению лежит количество кустов, высаженных в этом году.\n",
        "\n",
        "Ваша задача - вывести список сортов, которые были высажены в этом году (если высажено 0 кустов, то этот сорт в этом году не сажался)."
      ],
      "metadata": {
        "id": "AoT449EwIoN0"
      }
    },
    {
      "cell_type": "code",
      "execution_count": null,
      "metadata": {
        "id": "r61uXx7PIpkJ",
        "colab": {
          "base_uri": "https://localhost:8080/"
        },
        "outputId": "d29f4c9d-e819-404e-a090-bba280dbbbfc"
      },
      "outputs": [
        {
          "output_type": "stream",
          "name": "stdout",
          "text": [
            "['Бычье сердце', 'Любаша', 'Космонавт Волков', 'Монеточка']\n"
          ]
        }
      ],
      "source": [
        "tomatoes = {\"Бычье сердце\": 4, \"Любаша\": 1, \"Титаник\": 0, \"Космонавт Волков\": 7}\n",
        "tomatoes[\"Монеточка\"] = 5\n",
        "\n",
        "# YOUR CODE HERE\n",
        "planted_kinds = []\n",
        "for key, value in tomatoes.items():\n",
        "  if value > 0:\n",
        "    planted_kinds.append(key)\n",
        "print(planted_kinds)"
      ]
    },
    {
      "cell_type": "markdown",
      "source": [
        "## 7. Словари.\n",
        "\n",
        "Создайте словарь, где ключами будут числа от 0 до 20 включительно, а значения -\n",
        "1. -1, если значение ключа делится на 5\n",
        "2. 1 иначе\n",
        "\n",
        "\n",
        "<font color=\"#8000FF\"> Используйте comprehensions </font>"
      ],
      "metadata": {
        "id": "M7EBZSFGLiVy"
      }
    },
    {
      "cell_type": "code",
      "execution_count": null,
      "metadata": {
        "id": "2JxdQGZJIppV",
        "colab": {
          "base_uri": "https://localhost:8080/"
        },
        "outputId": "e58e3b49-6339-43be-bae5-90431af0aaa3"
      },
      "outputs": [
        {
          "output_type": "execute_result",
          "data": {
            "text/plain": [
              "{0: -1,\n",
              " 1: 1,\n",
              " 2: 1,\n",
              " 3: 1,\n",
              " 4: 1,\n",
              " 5: -1,\n",
              " 6: 1,\n",
              " 7: 1,\n",
              " 8: 1,\n",
              " 9: 1,\n",
              " 10: -1,\n",
              " 11: 1,\n",
              " 12: 1,\n",
              " 13: 1,\n",
              " 14: 1,\n",
              " 15: -1,\n",
              " 16: 1,\n",
              " 17: 1,\n",
              " 18: 1,\n",
              " 19: 1,\n",
              " 20: -1}"
            ]
          },
          "metadata": {},
          "execution_count": 13
        }
      ],
      "source": [
        "my_dict = {i: -1 if i % 5 == 0 else 1 for i in range(0, 21)}\n",
        "my_dict"
      ]
    },
    {
      "cell_type": "markdown",
      "source": [
        "## 8. Ох уж эти корейцы\n",
        "\n",
        "Вам дан список с возрастами людей в одной неизвестной корейской фирме. Вышел новый закон, который постановляет, что теперь возраст сотрудников считается не традиционным способом, а по факту рождения. Менеджер компании попросил вас перезаполнить базу данных, обновив возраст сотрудников по правилу:\n",
        "\n",
        "$age = (age + 1)$\n",
        "\n",
        " <font color=\"#8000FF\"> Используйте функцию `map`</font>"
      ],
      "metadata": {
        "id": "ZTrqV-ixUhcj"
      }
    },
    {
      "cell_type": "code",
      "source": [
        "import random\n",
        "ages = random.choices(list(range(20, 65)), k=100500)\n",
        "\n",
        "new_age = list(map(lambda x: x + 1, ages))"
      ],
      "metadata": {
        "id": "60H4Zi4eMSQp"
      },
      "execution_count": null,
      "outputs": []
    },
    {
      "cell_type": "code",
      "source": [
        "# проверка\n",
        "print(ages[:10])\n",
        "print(new_age[:10])"
      ],
      "metadata": {
        "colab": {
          "base_uri": "https://localhost:8080/"
        },
        "id": "YfFdbV1rqEGX",
        "outputId": "1fb2fdbf-e4c3-47ef-b9e4-de477e21e1e2"
      },
      "execution_count": null,
      "outputs": [
        {
          "output_type": "stream",
          "name": "stdout",
          "text": [
            "[51, 46, 37, 43, 37, 47, 64, 29, 60, 20]\n",
            "[52, 47, 38, 44, 38, 48, 65, 30, 61, 21]\n"
          ]
        }
      ]
    },
    {
      "cell_type": "markdown",
      "source": [
        "## 9. Ох уж эти корейцы - 2.0\n",
        "\n",
        "Условие такое же, как и в задаче 8, но теперь вам предстоит решить такую же задачу с использованием <font color=\"#8000FF\"> `list comprehensions` </font>"
      ],
      "metadata": {
        "id": "0wcUgWpqMls_"
      }
    },
    {
      "cell_type": "code",
      "execution_count": null,
      "metadata": {
        "id": "FyrL43m7Iptt"
      },
      "outputs": [],
      "source": [
        "new_age = [x + 1 for x in ages]"
      ]
    },
    {
      "cell_type": "code",
      "source": [
        "# проверка\n",
        "print(ages[:10])\n",
        "print(new_age[:10])"
      ],
      "metadata": {
        "colab": {
          "base_uri": "https://localhost:8080/"
        },
        "id": "o-ty27NiqYV1",
        "outputId": "1ac9cbba-a7c6-4db7-a0e7-618ebbfb098a"
      },
      "execution_count": null,
      "outputs": [
        {
          "output_type": "stream",
          "name": "stdout",
          "text": [
            "[51, 46, 37, 43, 37, 47, 64, 29, 60, 20]\n",
            "[52, 47, 38, 44, 38, 48, 65, 30, 61, 21]\n"
          ]
        }
      ]
    },
    {
      "cell_type": "markdown",
      "source": [
        "## 10. Много разных строк.\n",
        "\n",
        "Напишите функцию` get_extended_string_info`, принимающую на вход строку, а на выход выдаёт **7 строк через запятую**, полученные из оригинальной соответствующим преобразованием:\n",
        "\n",
        "1. Самое длинное слово в строке\n",
        "2. Количество слов в строке\n",
        "3. Переворачивает каждое слово в строке задом наперёд\n",
        "4. Удаляет все цифры из строки\n",
        "5. Заменяет все буквы верхнего регистра на нижний, а нижнего регистра на верхний\n",
        "6. Проверяет, является ли строка палиндромом (без учета пробелов, регистра и пунктуации, те только буквы и цифры)\n",
        "7. Если строка не является палиндромом, то выводит первые 5 символов строки в обратном порядке\n",
        "\n",
        "Т.е.  первая строка - самое длинное слово в исходной строке, вторая строка - количество слов в исходной строке и.т.д."
      ],
      "metadata": {
        "id": "0nk0f2oSM-dx"
      }
    },
    {
      "cell_type": "code",
      "execution_count": 60,
      "metadata": {
        "id": "qD-0OsRZIpw3"
      },
      "outputs": [],
      "source": [
        "# YOUR CODE HERE\n",
        "def get_extended_string_info(input_string : str):\n",
        "  #Находит самое длинное слово в строке\n",
        "  words: list[str] = input_string.split()\n",
        "  longest_word: str = max(words, key=len)\n",
        "\n",
        "  #Выводит количество слов в строке\n",
        "  quant: int = len(words)\n",
        "\n",
        "  #Переворачивает каждое слово в строке задом наперёд\n",
        "  reversed_words: list = [word[::-1] for word in input_string.split(' ')]\n",
        "  reversed_text = ' '.join(reversed_words)\n",
        "\n",
        "  #Удаляет все цифры из строки\n",
        "  no_numbers: list = [x for x in input_string if not(x.isdigit())]\n",
        "  no_numbers = ''.join(no_numbers)\n",
        "\n",
        "  #Заменяет все буквы верхнего регистра на нижний, а нижнего регистра на верхний\n",
        "  swap_case = input_string.swapcase()\n",
        "\n",
        "  #Проверяет, является ли строка палиндромом (без учета пробелов, регистра и пунктуации, те только буквы и цифры)\n",
        "  flag_palindrom: bool = True\n",
        "  clean_words: list = [x for x in input_string if x.isalnum()]\n",
        "  clean_words = ''.join(clean_words)\n",
        "  clean_words_no_reg = clean_words.lower()\n",
        "  for i in range(len(clean_words_no_reg) // 2):\n",
        "    if clean_words_no_reg[i] != clean_words_no_reg[- i - 1]:\n",
        "      flag_palindrom = False\n",
        "      break\n",
        "  if flag_palindrom:\n",
        "    str_flag_palindrom = 'Строка является палиндромом'\n",
        "  else:\n",
        "    str_flag_palindrom = 'Строка не является палиндромом'\n",
        "\n",
        "  #Если строка не является палиндромом, то выводит первые 5 символов строки в обратном порядке\n",
        "  if not(flag_palindrom):\n",
        "    if len(input_string) >= 5:\n",
        "      first_symbols_reversed: str = input_string[:5][::-1]\n",
        "      print(first_symbols_reversed)\n",
        "    else:\n",
        "      print('Строка содержит меньше 5 символов')\n",
        "\n",
        "  return longest_word, quant, reversed_text, no_numbers, swap_case, str_flag_palindrom"
      ]
    },
    {
      "cell_type": "code",
      "source": [
        "stroka = 'h5555  kffk. 5555 h'\n",
        "get_extended_string_info(stroka)"
      ],
      "metadata": {
        "colab": {
          "base_uri": "https://localhost:8080/"
        },
        "id": "krzOrIfrmtQv",
        "outputId": "5d866822-fa0a-49d9-fc8f-27e8ee753fc5"
      },
      "execution_count": 62,
      "outputs": [
        {
          "output_type": "execute_result",
          "data": {
            "text/plain": [
              "('h5555',\n",
              " 4,\n",
              " '5555h  .kffk 5555 h',\n",
              " 'h  kffk.  h',\n",
              " 'H5555  KFFK. 5555 H',\n",
              " 'Строка является палиндромом')"
            ]
          },
          "metadata": {},
          "execution_count": 62
        }
      ]
    },
    {
      "cell_type": "markdown",
      "source": [
        "## 11. Турецкие сериалы.\n",
        "\n",
        "Из администрации школы вам поступили списки турецких студентов, сдававших экзамены по математике и физике в виде словаря \"имя\": tuple(оценка по физике, оценка по математике)\n",
        "\n",
        "Если оценка ниже трех - студент не сдал, если ниже четырех - не получает стипендию. Если хотябы один предмет не сдан, то это отчисление\n",
        "\n",
        "1. <font color=\"#8000FF\"> С помощью comprehensions </font> сформируйте списки студентов, кто сдал экзамены на проход/стипу. Подумайте, какие категории вам нужны\n",
        "\n",
        "2. Сформируйте списки на стипендию и на отчисление"
      ],
      "metadata": {
        "id": "DSlSqjt0N0-3"
      }
    },
    {
      "cell_type": "code",
      "source": [
        "exam_scores = {\n",
        "    \"Serkan Bolat\": (3, 4),\n",
        "    \"Burak Deniz\": (5, 3),\n",
        "    \"Ahmet Yildirim\": (2, 5),\n",
        "    \"Merve Kaya\": (4, 4),\n",
        "    \"Emre Demir\": (2, 2),\n",
        "    \"Zeynep Arslan\": (3, 3),\n",
        "    \"Mustafa Yilmaz\": (5, 4),\n",
        "    \"Elif Ozdemir\": (4, 3),\n",
        "    \"Canan Karaca\": (2, 4),\n",
        "    \"Yusuf Sahin\": (5, 5),\n",
        "    \"Selin Cengiz\": (3, 2),\n",
        "    \"Kerem Gunes\": (4, 5),\n",
        "    \"Duru Aydin\": (3, 4),\n",
        "    \"Omer Yilmaz\": (2, 3),\n",
        "    \"Esra Uysal\": (4, 4),\n",
        "    \"Halil Yalcin\": (3, 3),\n",
        "    \"Ayse Yildirim\": (5, 4),\n",
        "    \"Fatma Demir\": (2, 2),\n",
        "    \"Ali Gokce\": (4, 3),\n",
        "    \"Cemre Erdem\": (3, 5)\n",
        "}\n"
      ],
      "metadata": {
        "id": "1Zf73sEgOC43"
      },
      "execution_count": null,
      "outputs": []
    },
    {
      "cell_type": "code",
      "execution_count": 64,
      "metadata": {
        "id": "faZRQH5pIpzu",
        "colab": {
          "base_uri": "https://localhost:8080/"
        },
        "outputId": "ca9e0854-1b1e-4ca8-f6cf-bea1e3b33bd6"
      },
      "outputs": [
        {
          "output_type": "stream",
          "name": "stdout",
          "text": [
            "Список студентов, кто сдал экзамены на проход/стипу: ['Serkan Bolat', 'Burak Deniz', 'Merve Kaya', 'Zeynep Arslan', 'Mustafa Yilmaz', 'Elif Ozdemir', 'Yusuf Sahin', 'Kerem Gunes', 'Duru Aydin', 'Esra Uysal', 'Halil Yalcin', 'Ayse Yildirim', 'Ali Gokce', 'Cemre Erdem']\n",
            "Список студентов, кто сдал экзамены на стипендию: ['Merve Kaya', 'Mustafa Yilmaz', 'Yusuf Sahin', 'Kerem Gunes', 'Esra Uysal', 'Ayse Yildirim']\n",
            "Список студентов на отчисление: ['Ahmet Yildirim', 'Emre Demir', 'Canan Karaca', 'Selin Cengiz', 'Omer Yilmaz', 'Fatma Demir']\n"
          ]
        }
      ],
      "source": [
        "# YOUR CODE HERE\n",
        "# формируем список студентов, кто сдал экзамены на проход/стипу\n",
        "passed_or_scholarship = [key for key, value in exam_scores.items() if value[0] >= 3 and value[1] >= 3]\n",
        "\n",
        "# формируем списки студентов, кто сдал экзамены на стипендию и на отчисление\n",
        "scholarship = [key for key, value in exam_scores.items() if value[0] >= 4 and value[1] >= 4]\n",
        "expelled = [key for key, value in exam_scores.items() if value[0] < 3 or value[1] < 3]\n",
        "\n",
        "print('Список студентов, кто сдал экзамены на проход/стипу:', passed_or_scholarship) # входят те, кто просто сдал и те, кто получил стипендию\n",
        "print('Список студентов, кто сдал экзамены на стипендию:', scholarship)\n",
        "print('Список студентов на отчисление:', expelled)"
      ]
    },
    {
      "cell_type": "markdown",
      "source": [
        "## 12. Я у мамы разработчик.\n",
        "\n",
        "Возьмите функцию из задачи 10 и переиспользуйте её, чтобы получить количество слов в строке. Ненужные переменные запихните в `_` и `*_`"
      ],
      "metadata": {
        "id": "vfhNtLvpOLYn"
      }
    },
    {
      "cell_type": "code",
      "source": [
        "stroka = 'h5555j. kffk. 5555 h'"
      ],
      "metadata": {
        "id": "bO8c0LeYzeb1"
      },
      "execution_count": 66,
      "outputs": []
    },
    {
      "cell_type": "code",
      "execution_count": 68,
      "metadata": {
        "id": "simmTOFbIp2V",
        "colab": {
          "base_uri": "https://localhost:8080/"
        },
        "outputId": "58e67b63-e164-40fb-fd04-6142940d6e6e"
      },
      "outputs": [
        {
          "output_type": "stream",
          "name": "stdout",
          "text": [
            "5555h\n",
            "Количество слов в строке: 4\n"
          ]
        }
      ],
      "source": [
        "# YOUR CODE HERE\n",
        "_, number_of_words, *_ = get_extended_string_info(stroka)\n",
        "print('Количество слов в строке:', number_of_words)"
      ]
    },
    {
      "cell_type": "markdown",
      "source": [
        "## 13. Не перевелись ещё богатыри на Руси! - часть 1.\n",
        "\n",
        "Вам дана очень длинная строка с фамилиями, отчествами и именами потенциальных богатырей.\n",
        "\n",
        "Ваша задача - <font color=\"#8000FF\">используя цикл for</font> получить список имён из неё, после чего вывести все **уникальные** имена."
      ],
      "metadata": {
        "id": "uFJ9mDlv1q9-"
      }
    },
    {
      "cell_type": "code",
      "execution_count": 69,
      "metadata": {
        "id": "w8gXe9q-oElJ"
      },
      "outputs": [],
      "source": [
        "slavic_names = '''\n",
        "Ратибор Васелинович Чеславов\n",
        "Веселин Истиславович Гремиславовский\n",
        "Хотимир Владимирович Жирославовский\n",
        "Бронислав Властимирович Бранимировский\n",
        "Васелин Граниславович Богданов\n",
        "Истислав Мутимирович Станиславов\n",
        "Вячеслав Велиградович Белославов\n",
        "Ярополк Хотимирович Станиславовский\n",
        "Тихомир Судиславович Васелинов\n",
        "Гранислав Истиславович Жирославов\n",
        "Белослав Мечиславович Мирославовский\n",
        "Властимир Богданович Гремиславов\n",
        "Гостевид Пересветович Мстиславов\n",
        "Бранимир Горисветович Велимиров\n",
        "Веселин Ратиборович Станиславов\n",
        "Вячеслав Истиславович Драгомыслов\n",
        "Васелин Велимирович Венцеславов\n",
        "Добромир Богославович Судиславов\n",
        "Тихомир Святославович Васелинов\n",
        "Вышеслав Граниславович Доброславов\n",
        "Драгомысл Ярославович Вышеславов\n",
        "Мечислав Гостевидович Станиславовский\n",
        "Градислав Веселинович Драгомыслов\n",
        "Доброслав Велимирович Святополков\n",
        "Пересвет Хотимирович Тихомиров\n",
        "Святослав Тихомирович Граниславов\n",
        "Жирослав Гремиславович Богославов\n",
        "Гранислав Перемыслович Васелинов\n",
        "Гостевид Хотимирович Ратиборов\n",
        "Гостевид Мутимирович Томиславов\n",
        "Тихомир Владимирович Веселинов\n",
        "Мстислав Хотимирович Истиславовский\n",
        "Чеслав Святополкович Веселинов\n",
        "Владимир Истиславович Властимиров\n",
        "Добромир Святополкович Доброжиров\n",
        "Томислав Истиславович Судиславовский\n",
        "Веселин Хотимирович Мстиславов\n",
        "Владимир Яромирович Судиславов\n",
        "Добромир Судиславович Жирославов\n",
        "Вышеслав Милорадович Белославовский\n",
        "Судислав Властимирович Бранимиров\n",
        "Перемысл Жирославович Бранимиров\n",
        "Драгомир Добромирович Мирославов\n",
        "Вячеслав Доброславович Судиславов\n",
        "Хотимир Перемыслович Богославов\n",
        "Веселин Мстиславович Ясномыслов\n",
        "Яромир Велиградович Истиславов\n",
        "Яромир Граниславович Веселиновский\n",
        "Ярослав Жирославович Святополков\n",
        "Горисвет Ярополкович Станиславовский\n",
        "'''"
      ]
    },
    {
      "cell_type": "code",
      "source": [
        "full_names = slavic_names.split()\n",
        "just_names = []\n",
        "for i, item in enumerate(full_names):\n",
        "  if i % 3 == 0:\n",
        "    just_names.append(item)\n",
        "\n",
        "print('Уникальные имена:')\n",
        "print(*list(set(just_names)), sep='\\n')"
      ],
      "metadata": {
        "colab": {
          "base_uri": "https://localhost:8080/"
        },
        "id": "lLtbEl4SVEIg",
        "outputId": "9c9a8485-f15a-44b1-de5c-978b7f78fdc0"
      },
      "execution_count": 72,
      "outputs": [
        {
          "output_type": "stream",
          "name": "stdout",
          "text": [
            "Уникальные имена:\n",
            "Судислав\n",
            "Чеслав\n",
            "Драгомир\n",
            "Гранислав\n",
            "Владимир\n",
            "Ратибор\n",
            "Бранимир\n",
            "Святослав\n",
            "Перемысл\n",
            "Бронислав\n",
            "Веселин\n",
            "Яромир\n",
            "Вышеслав\n",
            "Васелин\n",
            "Белослав\n",
            "Доброслав\n",
            "Гостевид\n",
            "Тихомир\n",
            "Ярополк\n",
            "Драгомысл\n",
            "Хотимир\n",
            "Ярослав\n",
            "Вячеслав\n",
            "Томислав\n",
            "Жирослав\n",
            "Мстислав\n",
            "Горисвет\n",
            "Мечислав\n",
            "Градислав\n",
            "Пересвет\n",
            "Истислав\n",
            "Властимир\n",
            "Добромир\n"
          ]
        }
      ]
    },
    {
      "cell_type": "markdown",
      "source": [
        "## 14. Не перевелись ещё богатыри на Руси! - часть 2.\n",
        "\n",
        "Вам дана очень длинная строка с фамилиями, отчествами и именами потенциальных богатырей.\n",
        "\n",
        "Ваша задача - <font color=\"#8000FF\">при помощи list comprehensions</font> получить список имён из неё, после чего вывести все **уникальные** имена."
      ],
      "metadata": {
        "id": "fBDeNsjooWXD"
      }
    },
    {
      "cell_type": "code",
      "source": [
        "# YOUR CODE HERE\n",
        "only_names = [item for i, item in enumerate(slavic_names.split()) if i % 3 == 0]\n",
        "only_unique_names = [item for i, item in enumerate(only_names) if item not in only_names[:i]]\n",
        "print('Уникальные имена:')\n",
        "print(*only_unique_names, sep='\\n')"
      ],
      "metadata": {
        "id": "55SRUaKLrdyR",
        "colab": {
          "base_uri": "https://localhost:8080/"
        },
        "outputId": "6af1dc7f-95df-4a9c-81db-c8d140cfba79"
      },
      "execution_count": 73,
      "outputs": [
        {
          "output_type": "stream",
          "name": "stdout",
          "text": [
            "Уникальные имена:\n",
            "Ратибор\n",
            "Веселин\n",
            "Хотимир\n",
            "Бронислав\n",
            "Васелин\n",
            "Истислав\n",
            "Вячеслав\n",
            "Ярополк\n",
            "Тихомир\n",
            "Гранислав\n",
            "Белослав\n",
            "Властимир\n",
            "Гостевид\n",
            "Бранимир\n",
            "Добромир\n",
            "Вышеслав\n",
            "Драгомысл\n",
            "Мечислав\n",
            "Градислав\n",
            "Доброслав\n",
            "Пересвет\n",
            "Святослав\n",
            "Жирослав\n",
            "Мстислав\n",
            "Чеслав\n",
            "Владимир\n",
            "Томислав\n",
            "Судислав\n",
            "Перемысл\n",
            "Драгомир\n",
            "Яромир\n",
            "Ярослав\n",
            "Горисвет\n"
          ]
        }
      ]
    },
    {
      "cell_type": "markdown",
      "source": [
        "## 15. Генератор богатырских имён.\n",
        "\n",
        "\n",
        "Современные родители любят имена с духом старины. Проанализируйте список имён (именно имён, а не отчеств/фамилий) из задачи 13. Выделите (чисто визуально) 6 возможных начал имён и 6 возможных концов имён (например, Яро - начало, Полк - конец, а вместе имя - Ярополк) и напишите функцию `generate_random_old_slavic_name`, которая при помощи random.choice выдаёт случайное имя.\n",
        "\n",
        "При помощи цикла вызовите функцию 10 раз и выведите, что получилось."
      ],
      "metadata": {
        "id": "QLVpQyJnK5Bc"
      }
    },
    {
      "cell_type": "code",
      "source": [
        "import random"
      ],
      "metadata": {
        "id": "h-OW3L7oOPRN"
      },
      "execution_count": 74,
      "outputs": []
    },
    {
      "cell_type": "code",
      "source": [
        "def generate_random_old_slavic_name():\n",
        "    # YOUR CODE HERE\n",
        "    name_start = ['Брони', 'Гори', 'Выше', 'Добро', 'Рати', 'Томи']\n",
        "    name_end = ['мир', 'мысл', 'свет', 'слав', 'бор', 'вид']\n",
        "    generated_name_start = random.choices(name_start)[0]\n",
        "    generated_name_end = random.choices(name_end)[0]\n",
        "    generated_name = generated_name_start + generated_name_end\n",
        "    return generated_name\n",
        "for _ in range(10):\n",
        "  print(generate_random_old_slavic_name())"
      ],
      "metadata": {
        "id": "0burcuqjMQ30",
        "colab": {
          "base_uri": "https://localhost:8080/"
        },
        "outputId": "ec71dadd-0b18-4c17-ddb6-53800efe0929"
      },
      "execution_count": 78,
      "outputs": [
        {
          "output_type": "stream",
          "name": "stdout",
          "text": [
            "Вышемир\n",
            "Ратислав\n",
            "Бронимысл\n",
            "Добробор\n",
            "Бронислав\n",
            "Горисвет\n",
            "Горислав\n",
            "Бронислав\n",
            "Вышеслав\n",
            "Добромир\n"
          ]
        }
      ]
    },
    {
      "cell_type": "markdown",
      "source": [
        "## 16. Один день, еще один, да один день - часть 1.\n",
        "\n",
        "Перед вами список некоторых князей Киевских и годы их правления.\n",
        "\n",
        "Ваша задача - <font color=\"#8000FF\">при помощи лямбда-функции и функции sort</font> отсортировать их в порядке возрастания количества лет, которых они провели на престоле."
      ],
      "metadata": {
        "id": "Td8QhrRJ_wdO"
      }
    },
    {
      "cell_type": "code",
      "source": [
        "rulers = [{\"name\": \"Олег Вещий\", \"year_start\": 882, \"year_end\": 912},\n",
        "          {\"name\": \"Игорь Рюрикович\", \"year_start\": 912, \"year_end\": 945},\n",
        "          {\"name\": \"Ольга\", \"year_start\": 945, \"year_end\": 960},\n",
        "          {\"name\": \"Святослав Игоревич\", \"year_start\": 945, \"year_end\": 972},\n",
        "          {\"name\": \"Ярополк Святославич\", \"year_start\": 972, \"year_end\": 978},\n",
        "          {\"name\": \"Владимир Святославич\", \"year_start\": 978, \"year_end\": 1015}]"
      ],
      "metadata": {
        "id": "oxgCN37HJEHk"
      },
      "execution_count": 79,
      "outputs": []
    },
    {
      "cell_type": "code",
      "source": [
        "sorted_rulers = sorted(rulers, key=lambda x: x[\"year_end\"] - x[\"year_start\"]) # YOUR CODE HERE\n",
        "sorted_rulers"
      ],
      "metadata": {
        "id": "WpbJzN82KUki",
        "colab": {
          "base_uri": "https://localhost:8080/"
        },
        "outputId": "a11b186a-6584-4cc5-cdee-1ead445cffd6"
      },
      "execution_count": null,
      "outputs": [
        {
          "output_type": "execute_result",
          "data": {
            "text/plain": [
              "[{'name': 'Ярополк Святославич', 'year_start': 972, 'year_end': 978},\n",
              " {'name': 'Ольга', 'year_start': 945, 'year_end': 960},\n",
              " {'name': 'Святослав Игоревич', 'year_start': 945, 'year_end': 972},\n",
              " {'name': 'Олег Вещий', 'year_start': 882, 'year_end': 912},\n",
              " {'name': 'Игорь Рюрикович', 'year_start': 912, 'year_end': 945},\n",
              " {'name': 'Владимир Святославич', 'year_start': 978, 'year_end': 1015}]"
            ]
          },
          "metadata": {},
          "execution_count": 22
        }
      ]
    },
    {
      "cell_type": "markdown",
      "source": [
        "## 17. Один день, ещё один, да один день - часть 2.\n",
        "\n",
        "Перед вами список некоторых князей Киевских и годы их правления.\n",
        "\n",
        "Ваша задача - <font color=\"#8000FF\">при помощи лямбда-функции и функции filter</font> выбрать из них тех, кто правил дольше 17 лет или является Ольгой."
      ],
      "metadata": {
        "id": "VP2Nn03BKWOo"
      }
    },
    {
      "cell_type": "code",
      "source": [
        "filtered_rulers = list(filter(lambda x: x[\"year_end\"] - x[\"year_start\"] > 17 or x[\"name\"] == \"Ольга\", rulers)) # YOUR CODE HERE\n",
        "filtered_rulers"
      ],
      "metadata": {
        "id": "hNkpXtt1KkDE",
        "colab": {
          "base_uri": "https://localhost:8080/"
        },
        "outputId": "d3599cbe-3b00-4070-d40e-a144d32c6a12"
      },
      "execution_count": 80,
      "outputs": [
        {
          "output_type": "execute_result",
          "data": {
            "text/plain": [
              "[{'name': 'Олег Вещий', 'year_start': 882, 'year_end': 912},\n",
              " {'name': 'Игорь Рюрикович', 'year_start': 912, 'year_end': 945},\n",
              " {'name': 'Ольга', 'year_start': 945, 'year_end': 960},\n",
              " {'name': 'Святослав Игоревич', 'year_start': 945, 'year_end': 972},\n",
              " {'name': 'Владимир Святославич', 'year_start': 978, 'year_end': 1015}]"
            ]
          },
          "metadata": {},
          "execution_count": 80
        }
      ]
    },
    {
      "cell_type": "markdown",
      "source": [
        "## 18. Кому на Руси жить хорошо - часть 1.\n",
        "\n",
        "*В Древней Руси больше всего боялись тех, кто отсидел, потому что тогда сажали на кол.*\n",
        "\n",
        "Перед вами два словаря - словарь `paid_money` - количество золота, сколько этот боярин заплатил в казну и словарь `real_money` - количество золота, которое реально заработал боярин.\n",
        "\n",
        "<font color=\"#8000FF\">При помощи цикла for</font> выведи список имён бояр, которые заплатили менее десятой части от своих настоящих доходов - это те бояре, которых в следующем месяце придётся посадить на кол."
      ],
      "metadata": {
        "id": "uQmzqitT9zCx"
      }
    },
    {
      "cell_type": "code",
      "source": [
        "paid_money = {\"Козьма Григорьевич\": 70,\n",
        "              \"Аврам Стефанович\": 101,\n",
        "              \"Захарий Григорьевич\": 15,\n",
        "              \"Онцифор Лукинич\": 208}\n",
        "\n",
        "real_money = {\"Козьма Григорьевич\": 1000,\n",
        "              \"Аврам Стефанович\": 900,\n",
        "              \"Захарий Григорьевич\": 400,\n",
        "              \"Онцифор Лукинич\": 2000}"
      ],
      "metadata": {
        "id": "x_QHMKex-DM-"
      },
      "execution_count": 81,
      "outputs": []
    },
    {
      "cell_type": "code",
      "source": [
        "# YOUR CODE HERE\n",
        "for key, value in paid_money.items():\n",
        "  if value < real_money[key] / 10:\n",
        "    print(key)"
      ],
      "metadata": {
        "id": "_rXLJj8M-BlC",
        "colab": {
          "base_uri": "https://localhost:8080/"
        },
        "outputId": "4b66c1fb-3700-47cb-f1f2-b415ea215188"
      },
      "execution_count": 82,
      "outputs": [
        {
          "output_type": "stream",
          "name": "stdout",
          "text": [
            "Козьма Григорьевич\n",
            "Захарий Григорьевич\n"
          ]
        }
      ]
    },
    {
      "cell_type": "markdown",
      "source": [
        "## 19. Кому на Руси жить хорошо - часть 2.\n",
        "\n",
        "\n",
        "Перед вами два словаря - словарь `paid_money` - количество золота, сколько этот боярин заплатил в казну и словарь `real_money` - количество золота, которое реально заработал боярин.\n",
        "\n",
        "<font color=\"#8000FF\">При помощи list comprehension и условия</font> выведи список имён бояр, которые заплатили менее десятой части от своих настоящих доходов - это те бояре, которых в следующем месяце придётся посадить на кол."
      ],
      "metadata": {
        "id": "TAhHkr-mTY9d"
      }
    },
    {
      "cell_type": "code",
      "source": [
        "# YOUR CODE HERE\n",
        "execution = [key for key, value in paid_money.items() if value < real_money[key] / 10]\n",
        "execution"
      ],
      "metadata": {
        "id": "ORqNSSsGl12r",
        "colab": {
          "base_uri": "https://localhost:8080/"
        },
        "outputId": "1fb6be82-5e99-49d9-bb4a-daa1baa586ee"
      },
      "execution_count": 83,
      "outputs": [
        {
          "output_type": "execute_result",
          "data": {
            "text/plain": [
              "['Козьма Григорьевич', 'Захарий Григорьевич']"
            ]
          },
          "metadata": {},
          "execution_count": 83
        }
      ]
    },
    {
      "cell_type": "markdown",
      "source": [
        "## 20. Здесь русский дух, здесь Русью пахнет... (2 балла)\n",
        "\n",
        "Вы задались задачей сделать самые русские духи. Для этого вы собрали несколько пробных ароматов из разных нот (ноты между ароматами могут повторяться) и провели опрос среди прохожих, спрашивая, насколько Русью пахнет данный аромат по шкале от 1 до 5 включительно.\n",
        "\n",
        "Перед вами часть ароматов и часть голосов - ваша задача:\n",
        "\n",
        "1. На основе ароматов определить множество **уникальных** нот в ароматах\n",
        "2. Определить среднее значение голосов за каждую **ноту**\n",
        "3. Вывести топ-3 ноты по среднему значению голосов - это и будут наши самые русские духи."
      ],
      "metadata": {
        "id": "_HJtKjsu2ABU"
      }
    },
    {
      "cell_type": "code",
      "source": [
        "fragrances = [{\"id\": 15, \"name\": \"Русалка\", \"notes\": \"кувшинки, вода, мох, мускус\"},\n",
        "              {\"id\": 16, \"name\": \"Жар-птица\", \"notes\": \"молоко, сандал, слива, перец\"},\n",
        "              {\"id\": 17, \"name\": \"Река-Смородина\", \"notes\": \"смородина, вода, молоко, мед\"},\n",
        "              {\"id\": 18, \"name\": \"Царевна-Лягушка\", \"notes\": \"можжевельник, вода, древесина, перец, кувшинки\"},\n",
        "              {\"id\": 19, \"name\": \"Василиса-Премудрая\", \"notes\": \"мед, яблоко, ветивер, мускус\"}]\n",
        "\n",
        "votes = [{'id': 2353, 'fragrance_id': 19, 'vote_res': 2}, {'id': 2354, 'fragrance_id': 15, 'vote_res': 2}, {'id': 2355, 'fragrance_id': 18, 'vote_res': 1}, {'id': 2356, 'fragrance_id': 19, 'vote_res': 4}, {'id': 2357, 'fragrance_id': 16, 'vote_res': 4}, {'id': 2358, 'fragrance_id': 16, 'vote_res': 1}, {'id': 2359, 'fragrance_id': 18, 'vote_res': 1}, {'id': 2360, 'fragrance_id': 15, 'vote_res': 5}, {'id': 2361, 'fragrance_id': 18, 'vote_res': 5}, {'id': 2362, 'fragrance_id': 16, 'vote_res': 4}, {'id': 2363, 'fragrance_id': 19, 'vote_res': 2}, {'id': 2364, 'fragrance_id': 17, 'vote_res': 1}, {'id': 2365, 'fragrance_id': 15, 'vote_res': 1}, {'id': 2366, 'fragrance_id': 18, 'vote_res': 5}, {'id': 2367, 'fragrance_id': 19, 'vote_res': 3}, {'id': 2368, 'fragrance_id': 17, 'vote_res': 1}, {'id': 2369, 'fragrance_id': 18, 'vote_res': 1}, {'id': 2370, 'fragrance_id': 18, 'vote_res': 3}, {'id': 2371, 'fragrance_id': 15, 'vote_res': 2}, {'id': 2372, 'fragrance_id': 17, 'vote_res': 2}, {'id': 2373, 'fragrance_id': 16, 'vote_res': 2}, {'id': 2374, 'fragrance_id': 18, 'vote_res': 3}, {'id': 2375, 'fragrance_id': 19, 'vote_res': 1}, {'id': 2376, 'fragrance_id': 16, 'vote_res': 1}, {'id': 2377, 'fragrance_id': 16, 'vote_res': 2}, {'id': 2378, 'fragrance_id': 16, 'vote_res': 3}, {'id': 2379, 'fragrance_id': 18, 'vote_res': 2}, {'id': 2380, 'fragrance_id': 18, 'vote_res': 5}, {'id': 2381, 'fragrance_id': 15, 'vote_res': 3}, {'id': 2382, 'fragrance_id': 19, 'vote_res': 5}, {'id': 2383, 'fragrance_id': 17, 'vote_res': 4}, {'id': 2384, 'fragrance_id': 18, 'vote_res': 5}, {'id': 2385, 'fragrance_id': 19, 'vote_res': 3}, {'id': 2386, 'fragrance_id': 17, 'vote_res': 3}, {'id': 2387, 'fragrance_id': 17, 'vote_res': 5}, {'id': 2388, 'fragrance_id': 18, 'vote_res': 1}, {'id': 2389, 'fragrance_id': 19, 'vote_res': 1}, {'id': 2390, 'fragrance_id': 15, 'vote_res': 1}, {'id': 2391, 'fragrance_id': 19, 'vote_res': 5}, {'id': 2392, 'fragrance_id': 15, 'vote_res': 2}, {'id': 2393, 'fragrance_id': 15, 'vote_res': 3}, {'id': 2394, 'fragrance_id': 17, 'vote_res': 5}, {'id': 2395, 'fragrance_id': 15, 'vote_res': 5}, {'id': 2396, 'fragrance_id': 17, 'vote_res': 2}, {'id': 2397, 'fragrance_id': 15, 'vote_res': 5}, {'id': 2398, 'fragrance_id': 17, 'vote_res': 5}, {'id': 2399, 'fragrance_id': 18, 'vote_res': 4}, {'id': 2400, 'fragrance_id': 16, 'vote_res': 1}, {'id': 2401, 'fragrance_id': 17, 'vote_res': 5}, {'id': 2402, 'fragrance_id': 16, 'vote_res': 3}]"
      ],
      "metadata": {
        "id": "zvkU2KEy2WH8"
      },
      "execution_count": 84,
      "outputs": []
    },
    {
      "cell_type": "code",
      "source": [
        "# YOUR CODE HERE\n",
        "all_notes = []\n",
        "for c in fragrances:\n",
        "  all_notes += c['notes'].split(', ')\n",
        "unique_notes = list(set(all_notes))\n",
        "print('Множество уникальных нот в ароматах:', unique_notes, end='\\n\\n')\n",
        "scores = [0] * len(unique_notes)\n",
        "vote_counts = [0] * len(unique_notes)\n",
        "\n",
        "notes_scores = dict(zip(unique_notes, scores))\n",
        "notes_vote_counts = dict(zip(unique_notes, vote_counts))\n",
        "\n",
        "for elem in votes:\n",
        "  for fragr in fragrances:\n",
        "    if fragr['id'] == elem['fragrance_id']:\n",
        "      for note in fragr['notes'].split(', '):\n",
        "        notes_scores[note] += elem['vote_res']\n",
        "        notes_vote_counts[note] += 1\n",
        "\n",
        "mean_vote = [0] * len(unique_notes)\n",
        "notes_mean_vote = dict(zip(unique_notes, mean_vote))\n",
        "for note in unique_notes:\n",
        "  notes_mean_vote[note] = round(notes_scores[note] / notes_vote_counts[note], 3) # чтобы не отображалось оч много знаков после точки\n",
        "print('Среднее значение голосов за каждую ноту:', notes_mean_vote, end='\\n\\n')\n",
        "\n",
        "copied_notes_mean_vote = notes_mean_vote.copy()\n",
        "print('Топ-3 ноты по среднему значению голосов:')\n",
        "for i in range(1, 4):\n",
        "  cur_max = max(copied_notes_mean_vote, key=copied_notes_mean_vote.get)\n",
        "  print(f'{i}. {cur_max}')\n",
        "  del copied_notes_mean_vote[cur_max]"
      ],
      "metadata": {
        "id": "vG9JTNLM4eSE",
        "colab": {
          "base_uri": "https://localhost:8080/"
        },
        "outputId": "7d1cec4d-4b18-4c73-b82b-077196055826"
      },
      "execution_count": 85,
      "outputs": [
        {
          "output_type": "stream",
          "name": "stdout",
          "text": [
            "Множество уникальных нот в ароматах: ['сандал', 'слива', 'древесина', 'вода', 'смородина', 'мох', 'ветивер', 'можжевельник', 'мускус', 'кувшинки', 'яблоко', 'молоко', 'перец', 'мед']\n",
            "\n",
            "Среднее значение голосов за каждую ноту: {'сандал': 2.333, 'слива': 2.333, 'древесина': 3.0, 'вода': 3.062, 'смородина': 3.3, 'мох': 2.9, 'ветивер': 2.889, 'можжевельник': 3.0, 'мускус': 2.895, 'кувшинки': 2.955, 'яблоко': 2.889, 'молоко': 2.842, 'перец': 2.714, 'мед': 3.105}\n",
            "\n",
            "Топ-3 ноты по среднему значению голосов:\n",
            "1. смородина\n",
            "2. мед\n",
            "3. вода\n"
          ]
        }
      ]
    }
  ]
}